{
 "cells": [
  {
   "cell_type": "markdown",
   "id": "8daebd50-48c3-41f0-8589-3d6be747dc67",
   "metadata": {},
   "source": [
    "<h1> Data Science Tools and Ecosystem </h1>"
   ]
  },
  {
   "cell_type": "markdown",
   "id": "bdc2ae9b-ee54-4bdb-bc3e-9fadb6cffd44",
   "metadata": {},
   "source": [
    "In this notebook, Data Science Tools and Ecosystem are summarized."
   ]
  },
  {
   "cell_type": "markdown",
   "id": "0a23b070-a2d7-456b-bbe4-153ac8c995fd",
   "metadata": {},
   "source": [
    "**Objectives:**\n",
    "- List popular languages for Data Science\n",
    "- List commonly used libraries for Data Science\n",
    "- List three development environment open source tools for Data Science\n",
    "- Introducing arithmetic expression examples"
   ]
  },
  {
   "cell_type": "markdown",
   "id": "0d6cd63f-a757-40df-b584-ce73e288edf3",
   "metadata": {},
   "source": [
    "Some of the popular languages that Data Scientists use are:\n",
    "\n",
    "1. Python\n",
    "2. R\n",
    "3. SQL\n",
    "4. JAVA"
   ]
  },
  {
   "cell_type": "markdown",
   "id": "70e7c5ad-8540-48c2-94fb-316e0f72e51d",
   "metadata": {},
   "source": [
    "Some of the commonly used libraries used by Data Scientists include:\n",
    "\n",
    "1. Pandas\n",
    "2. Numpy\n",
    "3. matplotlib\n",
    "4. Seaborn\n",
    "5. Scikit-learn\n",
    "6. Tensorflow\n",
    "7. Pytorch"
   ]
  },
  {
   "cell_type": "markdown",
   "id": "d9b22267-14ab-4f91-8032-800319cbdd35",
   "metadata": {},
   "source": [
    "| Data Science Tools |\n",
    "| -------------------|\n",
    "| Jupyter IDE |\n",
    "| Microsoft Visual Studio |\n",
    "| Anconda Navigator |"
   ]
  },
  {
   "cell_type": "markdown",
   "id": "19ccff2f-2f15-45c9-b0e4-d949828a7d54",
   "metadata": {},
   "source": [
    "<h3> Below are a few examples of evaluating arithmetic expressions in Python </h3>"
   ]
  },
  {
   "cell_type": "markdown",
   "id": "8f8a3397-bfa8-47ec-8cf8-1e4b61d42686",
   "metadata": {},
   "source": [
    "This a simple arithmetic expression to mutiply then add integers"
   ]
  },
  {
   "cell_type": "code",
   "execution_count": 3,
   "id": "4b90073f-8e20-4f84-a124-eec8b3598fce",
   "metadata": {},
   "outputs": [
    {
     "data": {
      "text/plain": [
       "17"
      ]
     },
     "execution_count": 3,
     "metadata": {},
     "output_type": "execute_result"
    }
   ],
   "source": [
    "(3*4)+5"
   ]
  },
  {
   "cell_type": "markdown",
   "id": "3fdcf436-00d4-4555-9a33-11de60299a41",
   "metadata": {},
   "source": [
    "This will convert 200 minutes to hours by diving by 60"
   ]
  },
  {
   "cell_type": "code",
   "execution_count": 7,
   "id": "10b90727-4593-482d-8c1e-ad1c05e2ab34",
   "metadata": {},
   "outputs": [
    {
     "name": "stdout",
     "output_type": "stream",
     "text": [
      "200 minutes = 3.3333333333333335 hours\n"
     ]
    }
   ],
   "source": [
    "x = 200 / 60\n",
    "print('200 minutes =', x, 'hours')"
   ]
  },
  {
   "cell_type": "markdown",
   "id": "748f96f8-9e35-4334-9112-8537484bc28f",
   "metadata": {},
   "source": [
    "<h2> Author </h2>\n",
    "Jimin Woo"
   ]
  },
  {
   "cell_type": "code",
   "execution_count": null,
   "id": "4d6d3e0d-d5ac-4315-8a56-7cc1e0c76fe1",
   "metadata": {},
   "outputs": [],
   "source": []
  }
 ],
 "metadata": {
  "kernelspec": {
   "display_name": "Python 3 (ipykernel)",
   "language": "python",
   "name": "python3"
  },
  "language_info": {
   "codemirror_mode": {
    "name": "ipython",
    "version": 3
   },
   "file_extension": ".py",
   "mimetype": "text/x-python",
   "name": "python",
   "nbconvert_exporter": "python",
   "pygments_lexer": "ipython3",
   "version": "3.13.5"
  }
 },
 "nbformat": 4,
 "nbformat_minor": 5
}
